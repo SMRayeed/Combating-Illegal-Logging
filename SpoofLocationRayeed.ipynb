{
  "nbformat": 4,
  "nbformat_minor": 0,
  "metadata": {
    "colab": {
      "provenance": [],
      "authorship_tag": "ABX9TyPIh+L4TA9hR4OxUTZQrylm",
      "include_colab_link": true
    },
    "kernelspec": {
      "name": "python3",
      "display_name": "Python 3"
    },
    "language_info": {
      "name": "python"
    }
  },
  "cells": [
    {
      "cell_type": "markdown",
      "metadata": {
        "id": "view-in-github",
        "colab_type": "text"
      },
      "source": [
        "<a href=\"https://colab.research.google.com/github/averyiorio/TreeRingOrigin/blob/main/SpoofLocationRayeed.ipynb\" target=\"_parent\"><img src=\"https://colab.research.google.com/assets/colab-badge.svg\" alt=\"Open In Colab\"/></a>"
      ]
    },
    {
      "cell_type": "code",
      "execution_count": 1,
      "metadata": {
        "id": "hsQKf--_zcxk"
      },
      "outputs": [],
      "source": [
        "from geopy.distance import geodesic\n",
        "import random"
      ]
    },
    {
      "cell_type": "code",
      "source": [
        "def calculate_bounding_box(center_lat, center_lon, radius_miles):\n",
        "    return (\n",
        "        geodesic().destination((center_lat, center_lon), 0, radius_miles).latitude,\n",
        "        geodesic().destination((center_lat, center_lon), 90, radius_miles).longitude,\n",
        "        geodesic().destination((center_lat, center_lon), 180, radius_miles).latitude,\n",
        "        geodesic().destination((center_lat, center_lon), 270, radius_miles).longitude\n",
        "    )"
      ],
      "metadata": {
        "id": "M022JsLixW-C"
      },
      "execution_count": 2,
      "outputs": []
    },
    {
      "cell_type": "code",
      "source": [
        "def get_random_point_within_bounding_box(bounding_box):\n",
        "    random_lat = random.uniform(bounding_box[0], bounding_box[2])\n",
        "    random_lon = random.uniform(bounding_box[1], bounding_box[3])\n",
        "    return random_lat, random_lon"
      ],
      "metadata": {
        "id": "DCcvESUzyxhC"
      },
      "execution_count": 3,
      "outputs": []
    },
    {
      "cell_type": "code",
      "source": [
        "def get_points_within_radius(center_lat, center_lon, smaller_radius_miles, larger_radius_miles):\n",
        "    smaller_bounding_box = calculate_bounding_box(center_lat, center_lon, smaller_radius_miles)\n",
        "    larger_bounding_box = calculate_bounding_box(center_lat, center_lon, larger_radius_miles)\n",
        "\n",
        "    random_point_within_larger_box = get_random_point_within_bounding_box(larger_bounding_box)\n",
        "\n",
        "    while (\n",
        "        smaller_bounding_box[0] <= random_point_within_larger_box[0] <= smaller_bounding_box[2] and\n",
        "        smaller_bounding_box[1] <= random_point_within_larger_box[1] <= smaller_bounding_box[3]\n",
        "    ):\n",
        "        random_point_within_larger_box = get_random_point_within_bounding_box(larger_bounding_box)\n",
        "\n",
        "    return random_point_within_larger_box"
      ],
      "metadata": {
        "id": "gPPySOOXyyJq"
      },
      "execution_count": 4,
      "outputs": []
    },
    {
      "cell_type": "code",
      "source": [
        "center_lat = 42.7284\n",
        "center_lon = 73.6918\n",
        "smaller_radius_miles = 50\n",
        "larger_radius_miles = 400\n",
        "\n",
        "for ix in range(5) :\n",
        "  result = get_points_within_radius(center_lat, center_lon, smaller_radius_miles, larger_radius_miles)\n",
        "  print(f\"Count {ix+1} ----> Latitude : {result[0]:.5f} ----> Longitude : {result[1]:.5f}\")"
      ],
      "metadata": {
        "colab": {
          "base_uri": "https://localhost:8080/"
        },
        "id": "5YGGWhKsy1x9",
        "outputId": "b946bbf8-6d14-46fb-a153-273ac5afda8a"
      },
      "execution_count": 21,
      "outputs": [
        {
          "output_type": "stream",
          "name": "stdout",
          "text": [
            "Count 1 ----> Latitude : 44.71974 ----> Longitude : 69.18140\n",
            "Count 2 ----> Latitude : 44.04087 ----> Longitude : 77.81810\n",
            "Count 3 ----> Latitude : 43.53249 ----> Longitude : 74.16138\n",
            "Count 4 ----> Latitude : 39.46544 ----> Longitude : 76.92616\n",
            "Count 5 ----> Latitude : 40.53160 ----> Longitude : 70.11558\n"
          ]
        }
      ]
    },
    {
      "cell_type": "code",
      "source": [
        "import folium\n",
        "\n",
        "latitude = result[0]\n",
        "longitude = -result[1]\n",
        "\n",
        "map_center = [latitude, longitude]\n",
        "my_map = folium.Map(location=map_center, zoom_start=10)\n",
        "\n",
        "folium.Marker(location=map_center, popup=\"Given Location\").add_to(my_map)\n",
        "\n",
        "my_map"
      ],
      "metadata": {
        "colab": {
          "base_uri": "https://localhost:8080/",
          "height": 1000
        },
        "id": "79mfux6M0Evn",
        "outputId": "0858e884-99cb-41fd-855f-05804dff01fe"
      },
      "execution_count": 25,
      "outputs": [
        {
          "output_type": "execute_result",
          "data": {
            "text/plain": [
              "<folium.folium.Map at 0x7f0b279261a0>"
            ],
            "text/html": [
              "<div style=\"width:100%;\"><div style=\"position:relative;width:100%;height:0;padding-bottom:60%;\"><span style=\"color:#565656\">Make this Notebook Trusted to load map: File -> Trust Notebook</span><iframe srcdoc=\"&lt;!DOCTYPE html&gt;\n",
              "&lt;html&gt;\n",
              "&lt;head&gt;\n",
              "    \n",
              "    &lt;meta http-equiv=&quot;content-type&quot; content=&quot;text/html; charset=UTF-8&quot; /&gt;\n",
              "    \n",
              "        &lt;script&gt;\n",
              "            L_NO_TOUCH = false;\n",
              "            L_DISABLE_3D = false;\n",
              "        &lt;/script&gt;\n",
              "    \n",
              "    &lt;style&gt;html, body {width: 100%;height: 100%;margin: 0;padding: 0;}&lt;/style&gt;\n",
              "    &lt;style&gt;#map {position:absolute;top:0;bottom:0;right:0;left:0;}&lt;/style&gt;\n",
              "    &lt;script src=&quot;https://cdn.jsdelivr.net/npm/leaflet@1.9.3/dist/leaflet.js&quot;&gt;&lt;/script&gt;\n",
              "    &lt;script src=&quot;https://code.jquery.com/jquery-1.12.4.min.js&quot;&gt;&lt;/script&gt;\n",
              "    &lt;script src=&quot;https://cdn.jsdelivr.net/npm/bootstrap@5.2.2/dist/js/bootstrap.bundle.min.js&quot;&gt;&lt;/script&gt;\n",
              "    &lt;script src=&quot;https://cdnjs.cloudflare.com/ajax/libs/Leaflet.awesome-markers/2.0.2/leaflet.awesome-markers.js&quot;&gt;&lt;/script&gt;\n",
              "    &lt;link rel=&quot;stylesheet&quot; href=&quot;https://cdn.jsdelivr.net/npm/leaflet@1.9.3/dist/leaflet.css&quot;/&gt;\n",
              "    &lt;link rel=&quot;stylesheet&quot; href=&quot;https://cdn.jsdelivr.net/npm/bootstrap@5.2.2/dist/css/bootstrap.min.css&quot;/&gt;\n",
              "    &lt;link rel=&quot;stylesheet&quot; href=&quot;https://netdna.bootstrapcdn.com/bootstrap/3.0.0/css/bootstrap.min.css&quot;/&gt;\n",
              "    &lt;link rel=&quot;stylesheet&quot; href=&quot;https://cdn.jsdelivr.net/npm/@fortawesome/fontawesome-free@6.2.0/css/all.min.css&quot;/&gt;\n",
              "    &lt;link rel=&quot;stylesheet&quot; href=&quot;https://cdnjs.cloudflare.com/ajax/libs/Leaflet.awesome-markers/2.0.2/leaflet.awesome-markers.css&quot;/&gt;\n",
              "    &lt;link rel=&quot;stylesheet&quot; href=&quot;https://cdn.jsdelivr.net/gh/python-visualization/folium/folium/templates/leaflet.awesome.rotate.min.css&quot;/&gt;\n",
              "    \n",
              "            &lt;meta name=&quot;viewport&quot; content=&quot;width=device-width,\n",
              "                initial-scale=1.0, maximum-scale=1.0, user-scalable=no&quot; /&gt;\n",
              "            &lt;style&gt;\n",
              "                #map_5c982bbc8d74be042ec286211ea21c56 {\n",
              "                    position: relative;\n",
              "                    width: 100.0%;\n",
              "                    height: 100.0%;\n",
              "                    left: 0.0%;\n",
              "                    top: 0.0%;\n",
              "                }\n",
              "                .leaflet-container { font-size: 1rem; }\n",
              "            &lt;/style&gt;\n",
              "        \n",
              "&lt;/head&gt;\n",
              "&lt;body&gt;\n",
              "    \n",
              "    \n",
              "            &lt;div class=&quot;folium-map&quot; id=&quot;map_5c982bbc8d74be042ec286211ea21c56&quot; &gt;&lt;/div&gt;\n",
              "        \n",
              "&lt;/body&gt;\n",
              "&lt;script&gt;\n",
              "    \n",
              "    \n",
              "            var map_5c982bbc8d74be042ec286211ea21c56 = L.map(\n",
              "                &quot;map_5c982bbc8d74be042ec286211ea21c56&quot;,\n",
              "                {\n",
              "                    center: [40.53160408920165, -70.11557873311847],\n",
              "                    crs: L.CRS.EPSG3857,\n",
              "                    zoom: 10,\n",
              "                    zoomControl: true,\n",
              "                    preferCanvas: false,\n",
              "                }\n",
              "            );\n",
              "\n",
              "            \n",
              "\n",
              "        \n",
              "    \n",
              "            var tile_layer_51575931c0da911842d773d1238a72f3 = L.tileLayer(\n",
              "                &quot;https://{s}.tile.openstreetmap.org/{z}/{x}/{y}.png&quot;,\n",
              "                {&quot;attribution&quot;: &quot;Data by \\u0026copy; \\u003ca target=\\&quot;_blank\\&quot; href=\\&quot;http://openstreetmap.org\\&quot;\\u003eOpenStreetMap\\u003c/a\\u003e, under \\u003ca target=\\&quot;_blank\\&quot; href=\\&quot;http://www.openstreetmap.org/copyright\\&quot;\\u003eODbL\\u003c/a\\u003e.&quot;, &quot;detectRetina&quot;: false, &quot;maxNativeZoom&quot;: 18, &quot;maxZoom&quot;: 18, &quot;minZoom&quot;: 0, &quot;noWrap&quot;: false, &quot;opacity&quot;: 1, &quot;subdomains&quot;: &quot;abc&quot;, &quot;tms&quot;: false}\n",
              "            ).addTo(map_5c982bbc8d74be042ec286211ea21c56);\n",
              "        \n",
              "    \n",
              "            var marker_08e58dc11f54b6b25caeefff665753d2 = L.marker(\n",
              "                [40.53160408920165, -70.11557873311847],\n",
              "                {}\n",
              "            ).addTo(map_5c982bbc8d74be042ec286211ea21c56);\n",
              "        \n",
              "    \n",
              "        var popup_3860a0d5035ea251056309da2bd8e92e = L.popup({&quot;maxWidth&quot;: &quot;100%&quot;});\n",
              "\n",
              "        \n",
              "            \n",
              "                var html_db640e911a8c5a43200d681bd282dc84 = $(`&lt;div id=&quot;html_db640e911a8c5a43200d681bd282dc84&quot; style=&quot;width: 100.0%; height: 100.0%;&quot;&gt;Given Location&lt;/div&gt;`)[0];\n",
              "                popup_3860a0d5035ea251056309da2bd8e92e.setContent(html_db640e911a8c5a43200d681bd282dc84);\n",
              "            \n",
              "        \n",
              "\n",
              "        marker_08e58dc11f54b6b25caeefff665753d2.bindPopup(popup_3860a0d5035ea251056309da2bd8e92e)\n",
              "        ;\n",
              "\n",
              "        \n",
              "    \n",
              "&lt;/script&gt;\n",
              "&lt;/html&gt;\" style=\"position:absolute;width:100%;height:100%;left:0;top:0;border:none !important;\" allowfullscreen webkitallowfullscreen mozallowfullscreen></iframe></div></div>"
            ]
          },
          "metadata": {},
          "execution_count": 25
        }
      ]
    }
  ]
}