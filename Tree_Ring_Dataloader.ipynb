{
  "cells": [
    {
      "cell_type": "markdown",
      "source": [
        "# PyTorch Dataloader for the International Tree-Ring Data Bank (ITRDB)\n",
        "\n",
        "This data works by wrapping our parsed ITRDB data in a PyTorch Dataset to be used for PyTorch Neural Networks. The parsed data is publicly hosted on an AWS S3 bucket, and is retrieved simply through the Python requests library. The Dataset will also cache the created dataframe, so the API request will only need to be made once per session, enabling you to create multiple Datasets (train, test, and validate) with little to no wait time. For the sake of simplicity, this Dataset will also limit the tree ring widths to between the years 1900-2023, and will then drop any rings that have 0 measurements between that time (row is all NaN between 1900-2023)"
      ],
      "metadata": {
        "id": "20MIgRI9-qFs"
      }
    },
    {
      "cell_type": "markdown",
      "source": [
        "Import necessary dependencies"
      ],
      "metadata": {
        "id": "d8JPzo-5BBBk"
      }
    },
    {
      "cell_type": "code",
      "execution_count": 48,
      "metadata": {
        "id": "YhHsRPgzsVuz"
      },
      "outputs": [],
      "source": [
        "import torch\n",
        "import requests\n",
        "import pandas as pd\n",
        "from io import StringIO\n",
        "from torch.utils.data import Dataset, DataLoader\n",
        "from sklearn.model_selection import train_test_split"
      ]
    },
    {
      "cell_type": "markdown",
      "source": [
        "The Dataset Class itself, we retrieve the data from S3, cache it, and write a split function that can produce a 70-15-15 split on the data, only saving the set type requested in the constructor's parameters:"
      ],
      "metadata": {
        "id": "RM7yIi-UBHkY"
      }
    },
    {
      "cell_type": "code",
      "execution_count": 74,
      "metadata": {
        "id": "QhqOoUy0r9Td"
      },
      "outputs": [],
      "source": [
        "class TreeRingDataset(Dataset):\n",
        "\n",
        "  _cache = None\n",
        "\n",
        "  def __init__(self, set_type=\"train\"):\n",
        "\n",
        "    if TreeRingDataset._cache is None:\n",
        "      res = requests.get(\"https://paleo-data.s3.amazonaws.com/data.csv\")\n",
        "      TreeRingDataset._cache = pd.read_csv(StringIO(res.text), sep=\",\")\n",
        "\n",
        "    self.df = TreeRingDataset._cache.copy()\n",
        "\n",
        "    self.df.drop(self.df.columns[list(range(1, 1940))], axis=1, inplace=True)\n",
        "    self.df.dropna(subset=self.df.columns[1:125], how='all', inplace=True)\n",
        "\n",
        "    training, test, validate = self.__split()\n",
        "    self.df = training if set_type == \"train\" else (test if set_type == \"test\" else validate)\n",
        "\n",
        "  def __split(self):\n",
        "    train, test = train_test_split(self.df, train_size=.70, stratify=self.df['loc'])\n",
        "    validate, test = train_test_split(test, train_size=.5, stratify=test['loc'])\n",
        "    return (train, test, validate)\n",
        "\n",
        "  def __len__(self):\n",
        "    return self.df.shape[0]\n",
        "\n",
        "  def __getitem__(self, index):\n",
        "    x = torch.tensor(self.df.iloc[index, 1:52])\n",
        "    latn, lats, lone, lonw = self.df.iloc[index, 87:91]\n",
        "    label = torch.tensor([(latn+lats)/2, (lone+lonw)/2])\n",
        "\n",
        "    return x, label"
      ]
    },
    {
      "cell_type": "code",
      "source": [
        "a = TreeRingDataset(set_type=\"train\")"
      ],
      "metadata": {
        "id": "9cUzaux2Zwz0"
      },
      "execution_count": 62,
      "outputs": []
    },
    {
      "cell_type": "markdown",
      "source": [
        "Then this can be taken and retrieved for each train, test, and validate set, which will only need to send 1 API request and thus finish fairly quickly:"
      ],
      "metadata": {
        "id": "qsvkesqqBTYY"
      }
    },
    {
      "cell_type": "code",
      "execution_count": 75,
      "metadata": {
        "id": "N-c_t2w2tIh8"
      },
      "outputs": [],
      "source": [
        "train_data = TreeRingDataset(\n",
        "    set_type=\"train\"\n",
        ")\n",
        "\n",
        "test_data = TreeRingDataset(\n",
        "    set_type=\"test\"\n",
        ")\n",
        "\n",
        "validate_data = TreeRingDataset(\n",
        "    set_type=\"validate\"\n",
        ")"
      ]
    },
    {
      "cell_type": "markdown",
      "source": [
        "Finally, we can wrap it in a Dataloader:"
      ],
      "metadata": {
        "id": "2o3K3qUlBf6H"
      }
    },
    {
      "cell_type": "code",
      "source": [
        "train_dataloader = DataLoader(train_data, batch_size=32)\n",
        "test_dataloader = DataLoader(test_data, batch_size=32)\n",
        "validate_dataloader = DataLoader(validate_data, batch_size=32)"
      ],
      "metadata": {
        "id": "Mj1G85qX7dBH"
      },
      "execution_count": 76,
      "outputs": []
    },
    {
      "cell_type": "markdown",
      "source": [
        "And just an example of what the data looks like, we can display the first batch:"
      ],
      "metadata": {
        "id": "RIy43ZNnBjrW"
      }
    },
    {
      "cell_type": "code",
      "source": [
        "train_features, train_labels = next(iter(train_dataloader))\n",
        "print(train_features)\n",
        "print(train_labels)"
      ],
      "metadata": {
        "colab": {
          "base_uri": "https://localhost:8080/"
        },
        "id": "vQwUvKb56hoF",
        "outputId": "91b3acb0-d02d-4220-f960-4e39dc900fd7"
      },
      "execution_count": 77,
      "outputs": [
        {
          "output_type": "stream",
          "name": "stdout",
          "text": [
            "tensor([[0.5100, 0.7900, 0.7600,  ..., 0.8200, 0.3400,    nan],\n",
            "        [0.6200, 0.7400, 0.7300,  ...,    nan,    nan,    nan],\n",
            "        [   nan,    nan,    nan,  ...,    nan,    nan,    nan],\n",
            "        ...,\n",
            "        [   nan,    nan,    nan,  ...,    nan,    nan,    nan],\n",
            "        [0.3200, 0.2200, 0.3400,  ...,    nan,    nan,    nan],\n",
            "        [0.6000, 0.8200, 0.4700,  ...,    nan,    nan,    nan]],\n",
            "       dtype=torch.float64)\n",
            "tensor([[  35.5833, -106.1667],\n",
            "        [  39.3700, -114.7200],\n",
            "        [  35.4000, -108.5167],\n",
            "        [  38.6000, -107.5800],\n",
            "        [  34.9200, -107.8300],\n",
            "        [  42.5300,  -72.6000],\n",
            "        [  38.4000, -105.3000],\n",
            "        [  37.6500, -112.6700],\n",
            "        [  24.7140,  -81.3850],\n",
            "        [  39.6700, -107.8800],\n",
            "        [  42.5300,  -72.6000],\n",
            "        [  46.8300,  -87.9300],\n",
            "        [  38.8300, -108.5700],\n",
            "        [  44.9140, -109.5730],\n",
            "        [  24.7140,  -81.3850],\n",
            "        [  31.2200,  -84.4800],\n",
            "        [  40.0300, -105.5800],\n",
            "        [  24.7140,  -81.3850],\n",
            "        [  41.1500, -120.5700],\n",
            "        [  31.2200,  -84.4800],\n",
            "        [  43.4200,  -89.7200],\n",
            "        [  58.4492, -135.5862],\n",
            "        [  34.7000,  -82.8700],\n",
            "        [  47.5294,  -93.4528],\n",
            "        [  37.2026,  -80.4129],\n",
            "        [  37.5500, -105.5667],\n",
            "        [  37.4200, -111.8800],\n",
            "        [  37.5800, -108.5800],\n",
            "        [  38.6000, -107.5800],\n",
            "        [  46.8833,  -87.9000],\n",
            "        [  47.5300, -121.0500],\n",
            "        [  40.1500, -115.5300]], dtype=torch.float64)\n"
          ]
        }
      ]
    }
  ],
  "metadata": {
    "colab": {
      "provenance": []
    },
    "kernelspec": {
      "display_name": "Python 3",
      "name": "python3"
    },
    "language_info": {
      "name": "python"
    }
  },
  "nbformat": 4,
  "nbformat_minor": 0
}
