{
  "cells": [
    {
      "cell_type": "markdown",
      "source": [
        "# PyTorch Dataloader for the International Tree-Ring Data Bank (ITRDB)\n",
        "\n",
        "This data works by wrapping our parsed ITRDB data in a PyTorch Dataset to be used for PyTorch Neural Networks. The parsed data is publicly hosted on an AWS S3 bucket, and is retrieved simply through the Python requests library. The Dataset will also cache the created dataframe, so the API request will only need to be made once per session, enabling you to create multiple Datasets (train, test, and validate) with little to no wait time. For the sake of simplicity, this Dataset will also limit the tree ring widths to between the years 1900-2023, and will then drop any rings that have 0 measurements between that time (row is all NaN between 1900-2023)"
      ],
      "metadata": {
        "id": "20MIgRI9-qFs"
      }
    },
    {
      "cell_type": "markdown",
      "source": [
        "Import necessary dependencies"
      ],
      "metadata": {
        "id": "d8JPzo-5BBBk"
      }
    },
    {
      "cell_type": "code",
      "execution_count": 82,
      "metadata": {
        "id": "YhHsRPgzsVuz"
      },
      "outputs": [],
      "source": [
        "import torch\n",
        "import requests\n",
        "import pandas as pd\n",
        "from io import StringIO\n",
        "from torch.utils.data import Dataset, DataLoader\n",
        "from sklearn.model_selection import train_test_split"
      ]
    },
    {
      "cell_type": "markdown",
      "source": [
        "The Dataset Class itself, we retrieve the data from S3, cache it, and write a split function that can produce a 70-15-15 split on the data, only saving the set type requested in the constructor's parameters:"
      ],
      "metadata": {
        "id": "RM7yIi-UBHkY"
      }
    },
    {
      "cell_type": "code",
      "execution_count": 100,
      "metadata": {
        "id": "QhqOoUy0r9Td"
      },
      "outputs": [],
      "source": [
        "class TreeRingDataset(Dataset):\n",
        "\n",
        "  _cache = None\n",
        "  _train = None\n",
        "  _test = None\n",
        "  _validate = None\n",
        "\n",
        "  def __init__(self, set_type=\"train\"):\n",
        "\n",
        "    if TreeRingDataset._cache is None:\n",
        "      res = requests.get(\"https://paleo-data.s3.amazonaws.com/data.csv\")\n",
        "      TreeRingDataset._cache = pd.read_csv(StringIO(res.text), sep=\",\")\n",
        "\n",
        "    self.df = TreeRingDataset._cache.copy()\n",
        "\n",
        "    self.df.drop(self.df.columns[list(range(1, 1940))], axis=1, inplace=True)\n",
        "    self.df.dropna(subset=self.df.columns[1:125], how='all', inplace=True)\n",
        "\n",
        "    if type(TreeRingDataset._train) == type(None):\n",
        "      print(\"Performing a Split\")\n",
        "      TreeRingDataset._train, TreeRingDataset._test, TreeRingDataset._validate = self.__split()\n",
        "\n",
        "    self.df = TreeRingDataset._train if set_type == \"train\" else (TreeRingDataset._test if set_type == \"test\" else TreeRingDataset._validate)\n",
        "\n",
        "  def __split(self):\n",
        "    train, test = train_test_split(self.df, train_size=.70, stratify=self.df['loc'])\n",
        "    validate, test = train_test_split(test, train_size=.5, stratify=test['loc'])\n",
        "    return (train, test, validate)\n",
        "\n",
        "  def __len__(self):\n",
        "    return self.df.shape[0]\n",
        "\n",
        "  def __getitem__(self, index):\n",
        "    x = torch.tensor(self.df.iloc[index, 1:52])\n",
        "    latn, lats, lone, lonw = self.df.iloc[index, 87:91]\n",
        "    label = torch.tensor([(latn+lats)/2, (lone+lonw)/2])\n",
        "\n",
        "    return x, label"
      ]
    },
    {
      "cell_type": "markdown",
      "source": [
        "Then this can be taken and retrieved for each train, test, and validate set, which will only need to send 1 API request and thus finish fairly quickly:"
      ],
      "metadata": {
        "id": "qsvkesqqBTYY"
      }
    },
    {
      "cell_type": "code",
      "execution_count": 101,
      "metadata": {
        "id": "N-c_t2w2tIh8",
        "colab": {
          "base_uri": "https://localhost:8080/"
        },
        "outputId": "c0fd2bb9-e3bd-4da1-80d7-514122fc21f1"
      },
      "outputs": [
        {
          "output_type": "stream",
          "name": "stdout",
          "text": [
            "None\n",
            "Performing a Split\n",
            "              index   1940   1941   1942   1943   1944   1945   1946   1947  \\\n",
            "17759    040102_raw  0.740  0.790  0.830  0.360  0.530  0.760  0.690  0.560   \n",
            "12831  MAM221AA_raw  0.230  0.250  0.290  0.270  0.350  0.260  0.180  0.340   \n",
            "10276    RDH34C_raw  0.423  0.528  0.599  0.589  0.493  0.486  0.506  0.559   \n",
            "5346     453081_raw  0.370  0.400  0.570  0.700  0.560  0.430  0.340  0.320   \n",
            "9704       A126_raw    NaN    NaN    NaN    NaN    NaN    NaN    NaN    NaN   \n",
            "...             ...    ...    ...    ...    ...    ...    ...    ...    ...   \n",
            "13532    WHS08A_raw  0.220  0.360  0.520  0.250  0.410  0.650  0.280  0.600   \n",
            "7964     nmm171_raw  0.416  0.505  0.513  0.609  0.599  0.397  0.263  0.359   \n",
            "7522     plu032_raw  0.871  0.878  0.694  0.648  0.612  0.636  0.494  0.922   \n",
            "5317     073042_raw  0.490  0.470  0.400  0.360  0.320  0.480  0.190  0.320   \n",
            "18430    GRC11B_raw    NaN    NaN    NaN    NaN    NaN    NaN    NaN    NaN   \n",
            "\n",
            "        1948  ...  2021  2022  2023                                    site  \\\n",
            "17759  0.640  ...   NaN   NaN   NaN         Winch Pond Adirondack Mountains   \n",
            "12831  0.330  ...   NaN   NaN   NaN                           Mammoth Creek   \n",
            "10276  0.511  ...   NaN   NaN   NaN                               Red Hills   \n",
            "5346   0.410  ...   NaN   NaN   NaN                            Red Butte II   \n",
            "9704     NaN  ...   NaN   NaN   NaN                     Mammoth Hot Springs   \n",
            "...      ...  ...   ...   ...   ...                                     ...   \n",
            "13532  0.280  ...   NaN   NaN   NaN                      White Horse Summit   \n",
            "7964   0.388  ...   NaN   NaN   NaN                             No Man Mesa   \n",
            "7522   0.697  ...   NaN   NaN   NaN                          Plug Hat Butte   \n",
            "5317   0.240  ...   NaN   NaN   NaN                         Pueblito Canyon   \n",
            "18430    NaN  ...   NaN   NaN   NaN  Fort Grant Overlook Pinaleno Mountains   \n",
            "\n",
            "              loc        N        S         E         W  species  \n",
            "17759    New York  44.3300  44.3300  -73.8800  -73.8800     PIST  \n",
            "12831        Utah  37.6500  37.6500 -112.6700 -112.6700     PILO  \n",
            "10276     Wyoming  43.6167  43.6167 -110.4333 -110.4333     PIFL  \n",
            "5346      Arizona  35.8200  35.8200 -112.0700 -112.0700     PIED  \n",
            "9704      Wyoming  44.9833  44.9833 -110.7000 -110.7000     PIFL  \n",
            "...           ...      ...      ...       ...       ...      ...  \n",
            "13532      Nevada  40.4000  40.4000 -114.2200 -114.2200     PIMO  \n",
            "7964         Utah  37.3500  37.3500 -112.1333 -112.1333     PIED  \n",
            "7522     Colorado  40.7800  40.7800 -108.9700 -108.9700     PIED  \n",
            "5317   New Mexico  36.6800  36.6800 -107.3200 -107.3200     PIED  \n",
            "18430     Arizona  32.7000  32.7000 -109.9200 -109.9200     PISF  \n",
            "\n",
            "[13231 rows x 92 columns]\n",
            "              index   1940   1941   1942   1943   1944   1945   1946   1947  \\\n",
            "17759    040102_raw  0.740  0.790  0.830  0.360  0.530  0.760  0.690  0.560   \n",
            "12831  MAM221AA_raw  0.230  0.250  0.290  0.270  0.350  0.260  0.180  0.340   \n",
            "10276    RDH34C_raw  0.423  0.528  0.599  0.589  0.493  0.486  0.506  0.559   \n",
            "5346     453081_raw  0.370  0.400  0.570  0.700  0.560  0.430  0.340  0.320   \n",
            "9704       A126_raw    NaN    NaN    NaN    NaN    NaN    NaN    NaN    NaN   \n",
            "...             ...    ...    ...    ...    ...    ...    ...    ...    ...   \n",
            "13532    WHS08A_raw  0.220  0.360  0.520  0.250  0.410  0.650  0.280  0.600   \n",
            "7964     nmm171_raw  0.416  0.505  0.513  0.609  0.599  0.397  0.263  0.359   \n",
            "7522     plu032_raw  0.871  0.878  0.694  0.648  0.612  0.636  0.494  0.922   \n",
            "5317     073042_raw  0.490  0.470  0.400  0.360  0.320  0.480  0.190  0.320   \n",
            "18430    GRC11B_raw    NaN    NaN    NaN    NaN    NaN    NaN    NaN    NaN   \n",
            "\n",
            "        1948  ...  2021  2022  2023                                    site  \\\n",
            "17759  0.640  ...   NaN   NaN   NaN         Winch Pond Adirondack Mountains   \n",
            "12831  0.330  ...   NaN   NaN   NaN                           Mammoth Creek   \n",
            "10276  0.511  ...   NaN   NaN   NaN                               Red Hills   \n",
            "5346   0.410  ...   NaN   NaN   NaN                            Red Butte II   \n",
            "9704     NaN  ...   NaN   NaN   NaN                     Mammoth Hot Springs   \n",
            "...      ...  ...   ...   ...   ...                                     ...   \n",
            "13532  0.280  ...   NaN   NaN   NaN                      White Horse Summit   \n",
            "7964   0.388  ...   NaN   NaN   NaN                             No Man Mesa   \n",
            "7522   0.697  ...   NaN   NaN   NaN                          Plug Hat Butte   \n",
            "5317   0.240  ...   NaN   NaN   NaN                         Pueblito Canyon   \n",
            "18430    NaN  ...   NaN   NaN   NaN  Fort Grant Overlook Pinaleno Mountains   \n",
            "\n",
            "              loc        N        S         E         W  species  \n",
            "17759    New York  44.3300  44.3300  -73.8800  -73.8800     PIST  \n",
            "12831        Utah  37.6500  37.6500 -112.6700 -112.6700     PILO  \n",
            "10276     Wyoming  43.6167  43.6167 -110.4333 -110.4333     PIFL  \n",
            "5346      Arizona  35.8200  35.8200 -112.0700 -112.0700     PIED  \n",
            "9704      Wyoming  44.9833  44.9833 -110.7000 -110.7000     PIFL  \n",
            "...           ...      ...      ...       ...       ...      ...  \n",
            "13532      Nevada  40.4000  40.4000 -114.2200 -114.2200     PIMO  \n",
            "7964         Utah  37.3500  37.3500 -112.1333 -112.1333     PIED  \n",
            "7522     Colorado  40.7800  40.7800 -108.9700 -108.9700     PIED  \n",
            "5317   New Mexico  36.6800  36.6800 -107.3200 -107.3200     PIED  \n",
            "18430     Arizona  32.7000  32.7000 -109.9200 -109.9200     PISF  \n",
            "\n",
            "[13231 rows x 92 columns]\n"
          ]
        }
      ],
      "source": [
        "train_data = TreeRingDataset(\n",
        "    set_type=\"train\"\n",
        ")\n",
        "\n",
        "test_data = TreeRingDataset(\n",
        "    set_type=\"test\"\n",
        ")\n",
        "\n",
        "validate_data = TreeRingDataset(\n",
        "    set_type=\"validate\"\n",
        ")"
      ]
    },
    {
      "cell_type": "markdown",
      "source": [
        "Finally, we can wrap it in a Dataloader:"
      ],
      "metadata": {
        "id": "2o3K3qUlBf6H"
      }
    },
    {
      "cell_type": "code",
      "source": [
        "train_dataloader = DataLoader(train_data, batch_size=32)\n",
        "test_dataloader = DataLoader(test_data, batch_size=32)\n",
        "validate_dataloader = DataLoader(validate_data, batch_size=32)"
      ],
      "metadata": {
        "id": "Mj1G85qX7dBH"
      },
      "execution_count": 89,
      "outputs": []
    },
    {
      "cell_type": "markdown",
      "source": [
        "And just an example of what the data looks like, we can display the first batch:"
      ],
      "metadata": {
        "id": "RIy43ZNnBjrW"
      }
    },
    {
      "cell_type": "code",
      "source": [
        "train_features, train_labels = next(iter(train_dataloader))\n",
        "print(train_features)\n",
        "print(train_labels)"
      ],
      "metadata": {
        "colab": {
          "base_uri": "https://localhost:8080/"
        },
        "id": "vQwUvKb56hoF",
        "outputId": "91b3acb0-d02d-4220-f960-4e39dc900fd7"
      },
      "execution_count": 77,
      "outputs": [
        {
          "output_type": "stream",
          "name": "stdout",
          "text": [
            "tensor([[0.5100, 0.7900, 0.7600,  ..., 0.8200, 0.3400,    nan],\n",
            "        [0.6200, 0.7400, 0.7300,  ...,    nan,    nan,    nan],\n",
            "        [   nan,    nan,    nan,  ...,    nan,    nan,    nan],\n",
            "        ...,\n",
            "        [   nan,    nan,    nan,  ...,    nan,    nan,    nan],\n",
            "        [0.3200, 0.2200, 0.3400,  ...,    nan,    nan,    nan],\n",
            "        [0.6000, 0.8200, 0.4700,  ...,    nan,    nan,    nan]],\n",
            "       dtype=torch.float64)\n",
            "tensor([[  35.5833, -106.1667],\n",
            "        [  39.3700, -114.7200],\n",
            "        [  35.4000, -108.5167],\n",
            "        [  38.6000, -107.5800],\n",
            "        [  34.9200, -107.8300],\n",
            "        [  42.5300,  -72.6000],\n",
            "        [  38.4000, -105.3000],\n",
            "        [  37.6500, -112.6700],\n",
            "        [  24.7140,  -81.3850],\n",
            "        [  39.6700, -107.8800],\n",
            "        [  42.5300,  -72.6000],\n",
            "        [  46.8300,  -87.9300],\n",
            "        [  38.8300, -108.5700],\n",
            "        [  44.9140, -109.5730],\n",
            "        [  24.7140,  -81.3850],\n",
            "        [  31.2200,  -84.4800],\n",
            "        [  40.0300, -105.5800],\n",
            "        [  24.7140,  -81.3850],\n",
            "        [  41.1500, -120.5700],\n",
            "        [  31.2200,  -84.4800],\n",
            "        [  43.4200,  -89.7200],\n",
            "        [  58.4492, -135.5862],\n",
            "        [  34.7000,  -82.8700],\n",
            "        [  47.5294,  -93.4528],\n",
            "        [  37.2026,  -80.4129],\n",
            "        [  37.5500, -105.5667],\n",
            "        [  37.4200, -111.8800],\n",
            "        [  37.5800, -108.5800],\n",
            "        [  38.6000, -107.5800],\n",
            "        [  46.8833,  -87.9000],\n",
            "        [  47.5300, -121.0500],\n",
            "        [  40.1500, -115.5300]], dtype=torch.float64)\n"
          ]
        }
      ]
    }
  ],
  "metadata": {
    "colab": {
      "provenance": []
    },
    "kernelspec": {
      "display_name": "Python 3",
      "name": "python3"
    },
    "language_info": {
      "name": "python"
    }
  },
  "nbformat": 4,
  "nbformat_minor": 0
}
