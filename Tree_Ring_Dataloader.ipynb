{
  "cells": [
    {
      "cell_type": "markdown",
      "source": [
        "# PyTorch Dataloader for the International Tree-Ring Data Bank (ITRDB)\n",
        "\n",
        "This data works by wrapping our parsed ITRDB data in a PyTorch Dataset to be used for PyTorch Neural Networks. The parsed data is publicly hosted on an AWS S3 bucket, and is retrieved simply through the Python requests library. The Dataset will also cache the created dataframe, so the API request will only need to be made once per session, enabling you to create multiple Datasets (train, test, and validate) with little to no wait time. For the sake of simplicity, this Dataset will also limit the tree ring widths to between the years 1900-2023, and will then drop any rings that have 0 measurements between that time (row is all NaN between 1900-2023)"
      ],
      "metadata": {
        "id": "20MIgRI9-qFs"
      }
    },
    {
      "cell_type": "markdown",
      "source": [
        "Import necessary dependencies"
      ],
      "metadata": {
        "id": "d8JPzo-5BBBk"
      }
    },
    {
      "cell_type": "code",
      "execution_count": null,
      "metadata": {
        "id": "YhHsRPgzsVuz"
      },
      "outputs": [],
      "source": [
        "import torch\n",
        "import requests\n",
        "import pandas as pd\n",
        "from io import StringIO\n",
        "from torch.utils.data import Dataset, DataLoader\n",
        "from sklearn.model_selection import train_test_split"
      ]
    },
    {
      "cell_type": "markdown",
      "source": [
        "The Dataset Class itself, we retrieve the data from S3, cache it, and write a split function that can produce a 70-15-15 split on the data, only saving the set type requested in the constructor's parameters:"
      ],
      "metadata": {
        "id": "RM7yIi-UBHkY"
      }
    },
    {
      "cell_type": "code",
      "execution_count": null,
      "metadata": {
        "id": "QhqOoUy0r9Td"
      },
      "outputs": [],
      "source": [
        "class TreeRingDataset(Dataset):\n",
        "\n",
        "  _cache = None\n",
        "\n",
        "  def __init__(self, set_type=\"train\"):\n",
        "\n",
        "    if TreeRingDataset._cache is None:\n",
        "      res = requests.get(\"https://paleo-data.s3.amazonaws.com/data.csv\")\n",
        "      TreeRingDataset._cache = pd.read_csv(StringIO(res.text), sep=\",\")\n",
        "\n",
        "    self.df = TreeRingDataset._cache.copy()\n",
        "    self.df.drop(self.df.columns[list(range(1, 1900))], axis=1, inplace=True)\n",
        "    self.df.dropna(subset=self.df.columns[1:125], how='all', inplace=True)\n",
        "\n",
        "    training, test, validate = self.__split()\n",
        "    self.df = training if set_type == \"train\" else (test if set_type == \"test\" else validate)\n",
        "\n",
        "  def __split(self):\n",
        "    train, test = train_test_split(self.df, train_size=.70, stratify=self.df['loc'])\n",
        "    validate, test = train_test_split(test, train_size=.5, stratify=test['loc'])\n",
        "    return (train, test, validate)\n",
        "\n",
        "  def __len__(self):\n",
        "    return self.df.shape[0]\n",
        "\n",
        "  def __getitem__(self, index):\n",
        "    label = torch.tensor(self.df.iloc[index, 127:131])\n",
        "    x = torch.tensor(self.df.iloc[index, 1:125])\n",
        "\n",
        "    return x, label"
      ]
    },
    {
      "cell_type": "markdown",
      "source": [
        "Then this can be taken and retrieved for each train, test, and validate set, which will only need to send 1 API request and thus finish fairly quickly:"
      ],
      "metadata": {
        "id": "qsvkesqqBTYY"
      }
    },
    {
      "cell_type": "code",
      "execution_count": null,
      "metadata": {
        "id": "N-c_t2w2tIh8"
      },
      "outputs": [],
      "source": [
        "train_data = TreeRingDataset(\n",
        "    set_type=\"train\"\n",
        ")\n",
        "\n",
        "test_data = TreeRingDataset(\n",
        "    set_type=\"test\"\n",
        ")\n",
        "\n",
        "validate_data = TreeRingDataset(\n",
        "    set_type=\"validate\"\n",
        ")"
      ]
    },
    {
      "cell_type": "markdown",
      "source": [
        "Finally, we can wrap it in a Dataloader:"
      ],
      "metadata": {
        "id": "2o3K3qUlBf6H"
      }
    },
    {
      "cell_type": "code",
      "source": [
        "train_dataloader = DataLoader(train_data, batch_size=32)\n",
        "test_dataloader = DataLoader(test_data, batch_size=32)\n",
        "validate_dataloader = DataLoader(validate_data, batch_size=32)"
      ],
      "metadata": {
        "id": "Mj1G85qX7dBH"
      },
      "execution_count": null,
      "outputs": []
    },
    {
      "cell_type": "markdown",
      "source": [
        "And just an example of what the data looks like, we can display the first batch:"
      ],
      "metadata": {
        "id": "RIy43ZNnBjrW"
      }
    },
    {
      "cell_type": "code",
      "source": [
        "train_features, train_labels = next(iter(train_dataloader))\n",
        "print(train_features)\n",
        "print(train_labels)"
      ],
      "metadata": {
        "colab": {
          "base_uri": "https://localhost:8080/"
        },
        "id": "vQwUvKb56hoF",
        "outputId": "f9d1bb20-4b17-4d7b-e66a-b99a619131f3"
      },
      "execution_count": null,
      "outputs": [
        {
          "output_type": "stream",
          "name": "stdout",
          "text": [
            "tensor([[   nan,    nan,    nan,  ...,    nan,    nan,    nan],\n",
            "        [1.0320, 0.9730, 0.6680,  ...,    nan,    nan,    nan],\n",
            "        [0.2320, 0.1790, 0.0980,  ...,    nan,    nan,    nan],\n",
            "        ...,\n",
            "        [0.6200, 0.7800, 0.4900,  ...,    nan,    nan,    nan],\n",
            "        [0.3000, 0.3630, 0.2230,  ...,    nan,    nan,    nan],\n",
            "        [0.1100, 0.1400, 0.0000,  ...,    nan,    nan,    nan]],\n",
            "       dtype=torch.float64)\n",
            "tensor([[  31.2200,   31.2200,  -84.4800,  -84.4800],\n",
            "        [  34.3000,   34.3000,  -94.6500,  -94.6500],\n",
            "        [  43.3319,   43.3319, -110.7991, -110.7991],\n",
            "        [  33.1300,   33.1300, -116.6000, -116.6000],\n",
            "        [  47.5300,   47.5300, -121.0500, -121.0500],\n",
            "        [  37.1500,   37.1500,  -91.0800,  -91.0800],\n",
            "        [  37.8700,   37.8700, -119.3700, -119.3700],\n",
            "        [  35.9000,   35.9000, -107.6300, -107.6300],\n",
            "        [  38.8300,   38.8300, -108.5700, -108.5700],\n",
            "        [  48.2300,   48.2300,  -90.9000,  -90.9000],\n",
            "        [  37.7700,   37.7700, -119.7700, -119.7700],\n",
            "        [  39.6700,   39.6700, -107.8800, -107.8800],\n",
            "        [  30.8558,   30.8558,  -83.9667,  -83.9667],\n",
            "        [  37.8300,   37.8300, -119.5800, -119.5800],\n",
            "        [  36.2000,   36.2000, -110.2800, -110.2800],\n",
            "        [  33.2500,   33.2500, -106.7500, -106.7500],\n",
            "        [  39.5000,   39.5000, -122.6700, -122.6700],\n",
            "        [  34.8370,   34.8370, -119.0480, -119.0480],\n",
            "        [  35.2300,   35.2300,  -93.6300,  -93.6300],\n",
            "        [  34.8000,   34.8000,  -92.9300,  -92.9300],\n",
            "        [  32.2506,   32.2506,  -85.1989,  -85.1989],\n",
            "        [  38.8300,   38.8300, -108.5700, -108.5700],\n",
            "        [  34.7000,   34.7000,  -82.8700,  -82.8700],\n",
            "        [  35.6500,   35.6500,  -78.8800,  -78.8800],\n",
            "        [  48.4833,   48.4833, -113.3167, -113.3167],\n",
            "        [  38.1700,   38.1700,  -91.8200,  -91.8200],\n",
            "        [  33.9939,   33.9939,  -78.0807,  -78.0807],\n",
            "        [  43.0800,   43.0800, -110.0700, -110.0700],\n",
            "        [  37.8700,   37.8700, -119.2800, -119.2800],\n",
            "        [  37.2500,   37.2500,  -80.3800,  -80.3800],\n",
            "        [  37.3500,   37.3500, -112.1333, -112.1333],\n",
            "        [  36.1000,   36.1000, -109.3800, -109.3800]], dtype=torch.float64)\n"
          ]
        }
      ]
    }
  ],
  "metadata": {
    "colab": {
      "provenance": []
    },
    "kernelspec": {
      "display_name": "Python 3",
      "name": "python3"
    },
    "language_info": {
      "name": "python"
    }
  },
  "nbformat": 4,
  "nbformat_minor": 0
}