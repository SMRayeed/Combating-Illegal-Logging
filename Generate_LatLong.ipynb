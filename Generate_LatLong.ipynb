{
  "nbformat": 4,
  "nbformat_minor": 0,
  "metadata": {
    "colab": {
      "provenance": []
    },
    "kernelspec": {
      "name": "python3",
      "display_name": "Python 3"
    },
    "language_info": {
      "name": "python"
    }
  },
  "cells": [
    {
      "cell_type": "code",
      "source": [
        "!pip install openmeteo-requests"
      ],
      "metadata": {
        "id": "3ZksgRWsh-lj"
      },
      "execution_count": null,
      "outputs": []
    },
    {
      "cell_type": "code",
      "source": [
        "!pip install requests-cache retry-requests"
      ],
      "metadata": {
        "id": "j9U3SoO0h_uH"
      },
      "execution_count": null,
      "outputs": []
    },
    {
      "cell_type": "code",
      "source": [
        "!pip install global-land-mask"
      ],
      "metadata": {
        "colab": {
          "base_uri": "https://localhost:8080/"
        },
        "id": "AWKScYjhqmfG",
        "outputId": "baf2dee1-36d8-4fe3-859d-d6fe8bfda097"
      },
      "execution_count": null,
      "outputs": [
        {
          "output_type": "stream",
          "name": "stdout",
          "text": [
            "Collecting global-land-mask\n",
            "  Downloading global_land_mask-1.0.0-py3-none-any.whl (1.8 MB)\n",
            "\u001b[2K     \u001b[90m━━━━━━━━━━━━━━━━━━━━━━━━━━━━━━━━━━━━━━━━\u001b[0m \u001b[32m1.8/1.8 MB\u001b[0m \u001b[31m8.9 MB/s\u001b[0m eta \u001b[36m0:00:00\u001b[0m\n",
            "\u001b[?25hInstalling collected packages: global-land-mask\n",
            "Successfully installed global-land-mask-1.0.0\n"
          ]
        }
      ]
    },
    {
      "cell_type": "code",
      "source": [
        "import asyncio\n",
        "import aiohttp\n",
        "import nest_asyncio\n",
        "import pandas as pd\n",
        "from typing import List, Tuple\n",
        "from global_land_mask import globe\n",
        "import numpy as np\n",
        "from datetime import datetime\n",
        "from retry_requests import retry\n",
        "import openmeteo_requests\n",
        "import requests\n",
        "import requests_cache\n",
        "import geopandas as gpd"
      ],
      "metadata": {
        "id": "1tv5HU0rhcD3"
      },
      "execution_count": null,
      "outputs": []
    },
    {
      "cell_type": "code",
      "source": [
        "from google.colab import drive\n",
        "drive.mount('/content/drive')"
      ],
      "metadata": {
        "colab": {
          "base_uri": "https://localhost:8080/"
        },
        "id": "JEG0Gs210-p8",
        "outputId": "9807334f-fc87-45c5-b129-8450bd8ede88"
      },
      "execution_count": null,
      "outputs": [
        {
          "output_type": "stream",
          "name": "stdout",
          "text": [
            "Mounted at /content/drive\n"
          ]
        }
      ]
    },
    {
      "cell_type": "code",
      "execution_count": null,
      "metadata": {
        "id": "AQWaWcgBdMLd"
      },
      "outputs": [],
      "source": [
        "class TreeRingData(Dataset):\n",
        "\n",
        "  def __init__(self):\n",
        "\n",
        "    self.endpoints = self.__get_tree_rings()\n",
        "    self.data_dump = []\n",
        "    nest_asyncio.apply()\n",
        "    asyncio.get_event_loop().run_until_complete(self.__fill_data())\n",
        "\n",
        "    self.dataframes = []\n",
        "\n",
        "    for j in self.endpoints:\n",
        "      cols = True\n",
        "      df = None\n",
        "      for i in j.splitlines():\n",
        "        if i[0] != '#':\n",
        "          temp = i.split()\n",
        "          if cols:\n",
        "            df = pd.DataFrame(columns=temp)\n",
        "            cols = False\n",
        "          else:\n",
        "            df.loc[len(df.index)] = temp\n",
        "\n",
        "      self.dataframes.append(df)\n",
        "\n",
        "    print(len(self.dataframes[0]))\n",
        "\n",
        "  async def __fill_data(self):\n",
        "    self.data_dump = await self.__caller(self.endpoints)\n",
        "\n",
        "  async def __fetch(self, session, url):\n",
        "    async with session.get(url) as response:\n",
        "      return await response.json()\n",
        "\n",
        "  async def __caller(self, urls):\n",
        "    async with aiohttp.ClientSession() as session:\n",
        "      tasks = [self.__fetch(session, url) for url in urls]\n",
        "      resps = await asyncio.gather(*tasks, return_exceptions=True)\n",
        "      return resps\n",
        "\n",
        "  def __get_tree_rings(self):\n",
        "\n",
        "    api = \"https://www.ncei.noaa.gov/access/paleo-search/study/search.json\"\n",
        "    response = requests.get(api, params={\n",
        "        \"dataTypeId\": 18,\n",
        "        \"continent\": \"North America\"\n",
        "    })\n",
        "\n",
        "    if response.status_code == 200:\n",
        "\n",
        "      allowed_names = {\n",
        "          \"Pinus ponderosa Douglas ex C. Lawson\": 0,\n",
        "          \"Pinus sylvestris L.\": 0,\n",
        "          \"Pinus edulis Engelm.\": 0\n",
        "      }\n",
        "\n",
        "      response = response.json()\n",
        "      urls = set()\n",
        "      for i in response[\"study\"]:\n",
        "        for j in i[\"site\"]:\n",
        "          for k in j[\"paleoData\"]:\n",
        "\n",
        "            includes_pinus = False\n",
        "            for o in k[\"species\"]:\n",
        "              if o[\"scientificName\"] in allowed_names:\n",
        "                allowed_names[o[\"scientificName\"]]+=1\n",
        "                includes_pinus = True\n",
        "\n",
        "            if includes_pinus:\n",
        "              for l in k[\"dataFile\"]:\n",
        "                urls.add(l[\"fileUrl\"])\n",
        "\n",
        "      print(allowed_names)\n",
        "      return urls\n",
        "    else:\n",
        "      raise Exception(\"Could not reach Paleo Data. Please ensure a stable connection.\")"
      ]
    },
    {
      "cell_type": "code",
      "source": [
        "class WeatherAPI:\n",
        "\n",
        "\n",
        "  def __init__(self, date_start, date_end, generate_num=100000, expire_after=-1, retries=5, backoff_factor=.2):\n",
        "\n",
        "    # Create Session with OpenMeteo, establish Endpoint\n",
        "    self.cache = requests_cache.CachedSession('.cache', expire_after=expire_after)\n",
        "    self.OpenMeteo = openmeteo_requests.Client(session=retry(self.cache, retries=retries, backoff_factor=backoff_factor))\n",
        "    self.endpoint = \"https://archive-api.open-meteo.com/v1/archive\"\n",
        "\n",
        "    # self.dates = self.__process_dates(date_start, date_end)\n",
        "\n",
        "    self.start_date = f\"{date_start}-01-01\"\n",
        "    self.end_date = f\"{date_end}-12-31\"\n",
        "\n",
        "    self.endpoints = [\"https://api.3geonames.org/?randomland=US&json=1\"]*generate_num\n",
        "    self.data_dump = []\n",
        "    nest_asyncio.apply()\n",
        "    asyncio.get_event_loop().run_until_complete(self.__fill_data())\n",
        "\n",
        "    long_lat = []\n",
        "    for i in self.data_dump:\n",
        "      long_lat.append((i[\"nearest\"][\"latt\"], i[\"nearest\"][\"longt\"]))\n",
        "\n",
        "    print(long_lat)\n",
        "\n",
        "  async def __fill_data(self):\n",
        "    self.data_dump = await self.__caller(self.endpoints)\n",
        "\n",
        "  async def __fetch(self, session, url):\n",
        "    async with session.get(url) as response:\n",
        "      return await response.json()\n",
        "\n",
        "  async def __caller(self, urls):\n",
        "    async with aiohttp.ClientSession() as session:\n",
        "      tasks = [self.__fetch(session, url) for url in urls]\n",
        "      resps = await asyncio.gather(*tasks, return_exceptions=True)\n",
        "      return resps\n",
        "\n",
        "  # def __process_dates(self, year_start: int, year_end: int) -> List[Tuple[int, int]]:\n",
        "\n",
        "  #   f = \"%m/%d/%Y\"\n",
        "  #   dates_list = [\n",
        "  #     (int(datetime.strptime(f\"01/01/{i}\", f).timestamp()), int(datetime.strptime(f\"12/31/{i}\", f).timestamp())) for i in range(year_start, year_end+1)\n",
        "  #   ]\n",
        "\n",
        "  #   return dates_list\n",
        "\n",
        "\n",
        "  # def __send_request(self, packet: dict, verbose=False) -> pd.DataFrame:\n",
        "\n",
        "  #   reponse = None\n",
        "  #   df = pd.DataFrame()\n",
        "  #   start_year, end_year = packet['year_start'], packet['year_end']\n",
        "  #   dates = self.__process_dates(start_year, end_year)\n",
        "  #   packet['start_date'] = f\"{packet['year_start']}-01-01\"\n",
        "  #   packet['end_date'] = f\"{packet['year_end']}-12-31\"\n",
        "\n",
        "  #   if verbose:\n",
        "  #     print(packet)\n",
        "\n",
        "  #   try:\n",
        "  #     response = self.OpenMeteo.weather_api(self.endpoint, params=packet)[0]\n",
        "  #   except Exception as e:\n",
        "  #     if verbose:\n",
        "  #       print(e)\n",
        "  #     return df\n",
        "\n",
        "  #   if verbose:\n",
        "  #     print(f\"Coordinates {response.Latitude()}°E {response.Longitude()}°N\")\n",
        "  #     print(f\"Elevation {response.Elevation()} m asl\")\n",
        "  #     print(f\"Timezone {response.Timezone()} {response.TimezoneAbbreviation()}\")\n",
        "  #     print(f\"Timezone difference to GMT+0 {response.UtcOffsetSeconds()} s\")\n",
        "\n",
        "  #   daily = response.Daily()\n",
        "  #   precip = daily.Variables(0).ValuesAsNumpy()\n",
        "\n",
        "  #   last_ind = 0\n",
        "  #   df_data = {\n",
        "  #     \"year\": [],\n",
        "  #     \"precipitation_sum\": [],\n",
        "  #     \"precipitation_daily_avg\": [],\n",
        "  #     \"precipitation_min\": [],\n",
        "  #     \"precipitation_max\": []\n",
        "  #   }\n",
        "\n",
        "  #   for i in range(0, end_year-start_year+1):\n",
        "\n",
        "  #     days = len(pd.date_range(\n",
        "  #       start = pd.to_datetime(dates[i][0], unit = \"s\"),\n",
        "  #       end = pd.to_datetime(dates[i][1], unit = \"s\"),\n",
        "  #       freq = pd.Timedelta(seconds = 86400),\n",
        "  #       inclusive = \"left\"\n",
        "  #     ))\n",
        "\n",
        "  #     years_data = precip[last_ind:days+last_ind]\n",
        "  #     df_data[\"year\"].append(i+start_year)\n",
        "  #     df_data[\"precipitation_sum\"].append(years_data.sum())\n",
        "  #     df_data[\"precipitation_daily_avg\"].append(np.mean(years_data))\n",
        "  #     df_data[\"precipitation_min\"].append(np.min(years_data))\n",
        "  #     df_data[\"precipitation_max\"].append(np.max(years_data))\n",
        "\n",
        "  #     last_ind=days+last_ind\n",
        "\n",
        "  #   dataframe = pd.DataFrame(data=df_data)\n",
        "\n",
        "  #   return dataframe\n",
        "\n",
        "\n",
        "  # def get_yearly_precipitation(self, year_start: int, year_end: int, long_lat: Tuple, verbose=False) -> pd.DataFrame:\n",
        "  #   return self.__send_request({\n",
        "  #     \"latitude\": long_lat[1],\n",
        "  #     \"longitude\": long_lat[0],\n",
        "  #     \"year_start\": year_start,\n",
        "  #     \"year_end\": year_end,\n",
        "  #     \"daily\": \"precipitation_sum\"\n",
        "  #   }, verbose=verbose)"
      ],
      "metadata": {
        "id": "ll4XFpSvgRnx"
      },
      "execution_count": null,
      "outputs": []
    },
    {
      "cell_type": "code",
      "source": [
        "a = WeatherAPI(2022, 2023)"
      ],
      "metadata": {
        "colab": {
          "base_uri": "https://localhost:8080/",
          "height": 315
        },
        "id": "4DnU0c7-dNFu",
        "outputId": "6a227d61-03ae-4734-dce0-ced54a455159"
      },
      "execution_count": null,
      "outputs": [
        {
          "output_type": "error",
          "ename": "TypeError",
          "evalue": "ignored",
          "traceback": [
            "\u001b[0;31m---------------------------------------------------------------------------\u001b[0m",
            "\u001b[0;31mTypeError\u001b[0m                                 Traceback (most recent call last)",
            "\u001b[0;32m<ipython-input-39-3430d8b4c108>\u001b[0m in \u001b[0;36m<cell line: 1>\u001b[0;34m()\u001b[0m\n\u001b[0;32m----> 1\u001b[0;31m \u001b[0ma\u001b[0m \u001b[0;34m=\u001b[0m \u001b[0mWeatherAPI\u001b[0m\u001b[0;34m(\u001b[0m\u001b[0;36m2022\u001b[0m\u001b[0;34m,\u001b[0m \u001b[0;36m2023\u001b[0m\u001b[0;34m)\u001b[0m\u001b[0;34m\u001b[0m\u001b[0;34m\u001b[0m\u001b[0m\n\u001b[0m",
            "\u001b[0;32m<ipython-input-38-6651d2d3f309>\u001b[0m in \u001b[0;36m__init__\u001b[0;34m(self, date_start, date_end, generate_num, expire_after, retries, backoff_factor)\u001b[0m\n\u001b[1;32m     21\u001b[0m     \u001b[0mlong_lat\u001b[0m \u001b[0;34m=\u001b[0m \u001b[0;34m[\u001b[0m\u001b[0;34m]\u001b[0m\u001b[0;34m\u001b[0m\u001b[0;34m\u001b[0m\u001b[0m\n\u001b[1;32m     22\u001b[0m     \u001b[0;32mfor\u001b[0m \u001b[0mi\u001b[0m \u001b[0;32min\u001b[0m \u001b[0mself\u001b[0m\u001b[0;34m.\u001b[0m\u001b[0mdata_dump\u001b[0m\u001b[0;34m:\u001b[0m\u001b[0;34m\u001b[0m\u001b[0;34m\u001b[0m\u001b[0m\n\u001b[0;32m---> 23\u001b[0;31m       \u001b[0mlong_lat\u001b[0m\u001b[0;34m.\u001b[0m\u001b[0mappend\u001b[0m\u001b[0;34m(\u001b[0m\u001b[0;34m(\u001b[0m\u001b[0mi\u001b[0m\u001b[0;34m[\u001b[0m\u001b[0;34m\"nearest\"\u001b[0m\u001b[0;34m]\u001b[0m\u001b[0;34m[\u001b[0m\u001b[0;34m\"latt\"\u001b[0m\u001b[0;34m]\u001b[0m\u001b[0;34m,\u001b[0m \u001b[0mi\u001b[0m\u001b[0;34m[\u001b[0m\u001b[0;34m\"nearest\"\u001b[0m\u001b[0;34m]\u001b[0m\u001b[0;34m[\u001b[0m\u001b[0;34m\"longt\"\u001b[0m\u001b[0;34m]\u001b[0m\u001b[0;34m)\u001b[0m\u001b[0;34m)\u001b[0m\u001b[0;34m\u001b[0m\u001b[0;34m\u001b[0m\u001b[0m\n\u001b[0m\u001b[1;32m     24\u001b[0m \u001b[0;34m\u001b[0m\u001b[0m\n\u001b[1;32m     25\u001b[0m     \u001b[0mprint\u001b[0m\u001b[0;34m(\u001b[0m\u001b[0mlong_lat\u001b[0m\u001b[0;34m)\u001b[0m\u001b[0;34m\u001b[0m\u001b[0;34m\u001b[0m\u001b[0m\n",
            "\u001b[0;31mTypeError\u001b[0m: 'ContentTypeError' object is not subscriptable"
          ]
        }
      ]
    },
    {
      "cell_type": "code",
      "source": [
        "a.data_dump"
      ],
      "metadata": {
        "id": "Yk8OTqUjkyfC"
      },
      "execution_count": null,
      "outputs": []
    },
    {
      "cell_type": "code",
      "source": [
        "# grab shape within which to sample\n",
        "url = \"https://www2.census.gov/geo/tiger/GENZ2018/shp/cb_2018_us_nation_20m.zip\"\n",
        "us = gpd.read_file(url).explode()\n",
        "## filter out parts of the US that are far away from mainland, I have no idea what they are (Guam islands?)\n",
        "us = us.loc[us.geometry.apply(lambda x: x.exterior.bounds[2])<-60]\n",
        "\n",
        "# grab bounding box within which to generate random numbers\n",
        "x_min,y_min,x_max,y_max = us.geometry.unary_union.bounds\n",
        "\n",
        "# the sampling\n",
        "np.random.seed(2) # set seed (needed for reproducible results\n",
        "N = 100000\n"
      ],
      "metadata": {
        "colab": {
          "base_uri": "https://localhost:8080/",
          "height": 446
        },
        "id": "fZHfJPMOYMFI",
        "outputId": "551fa4ba-c420-41cc-930a-99cdd33a8bd8"
      },
      "execution_count": null,
      "outputs": [
        {
          "output_type": "stream",
          "name": "stderr",
          "text": [
            "<ipython-input-18-3cbfb002b1c0>:3: FutureWarning: Currently, index_parts defaults to True, but in the future, it will default to False to be consistent with Pandas. Use `index_parts=True` to keep the current behavior and True/False to silence the warning.\n",
            "  us = gpd.read_file(url).explode()\n"
          ]
        },
        {
          "output_type": "error",
          "ename": "KeyboardInterrupt",
          "evalue": "ignored",
          "traceback": [
            "\u001b[0;31m---------------------------------------------------------------------------\u001b[0m",
            "\u001b[0;31mKeyboardInterrupt\u001b[0m                         Traceback (most recent call last)",
            "\u001b[0;32m<ipython-input-18-3cbfb002b1c0>\u001b[0m in \u001b[0;36m<cell line: 18>\u001b[0;34m()\u001b[0m\n\u001b[1;32m     16\u001b[0m \u001b[0;34m\u001b[0m\u001b[0m\n\u001b[1;32m     17\u001b[0m \u001b[0;31m# filtering\u001b[0m\u001b[0;34m\u001b[0m\u001b[0;34m\u001b[0m\u001b[0m\n\u001b[0;32m---> 18\u001b[0;31m \u001b[0minUS\u001b[0m \u001b[0;34m=\u001b[0m \u001b[0mrndn_sample\u001b[0m\u001b[0;34m[\u001b[0m\u001b[0;34m'geometry'\u001b[0m\u001b[0;34m]\u001b[0m\u001b[0;34m.\u001b[0m\u001b[0mapply\u001b[0m\u001b[0;34m(\u001b[0m\u001b[0;32mlambda\u001b[0m \u001b[0ms\u001b[0m\u001b[0;34m:\u001b[0m \u001b[0ms\u001b[0m\u001b[0;34m.\u001b[0m\u001b[0mwithin\u001b[0m\u001b[0;34m(\u001b[0m\u001b[0mus\u001b[0m\u001b[0;34m.\u001b[0m\u001b[0mgeometry\u001b[0m\u001b[0;34m.\u001b[0m\u001b[0munary_union\u001b[0m\u001b[0;34m)\u001b[0m\u001b[0;34m)\u001b[0m \u001b[0;31m# check if within the U.S. bounds\u001b[0m\u001b[0;34m\u001b[0m\u001b[0;34m\u001b[0m\u001b[0m\n\u001b[0m\u001b[1;32m     19\u001b[0m \u001b[0mrndn_sample\u001b[0m\u001b[0;34m.\u001b[0m\u001b[0mloc\u001b[0m\u001b[0;34m[\u001b[0m\u001b[0minUS\u001b[0m\u001b[0;34m,\u001b[0m\u001b[0;34m:\u001b[0m\u001b[0;34m]\u001b[0m\u001b[0;34m.\u001b[0m\u001b[0mplot\u001b[0m\u001b[0;34m(\u001b[0m\u001b[0;34m)\u001b[0m \u001b[0;31m# plot for visual inspection of results\u001b[0m\u001b[0;34m\u001b[0m\u001b[0;34m\u001b[0m\u001b[0m\n",
            "\u001b[0;32m/usr/local/lib/python3.10/dist-packages/geopandas/geoseries.py\u001b[0m in \u001b[0;36mapply\u001b[0;34m(self, func, convert_dtype, args, **kwargs)\u001b[0m\n\u001b[1;32m    643\u001b[0m     \u001b[0;34m@\u001b[0m\u001b[0mdoc\u001b[0m\u001b[0;34m(\u001b[0m\u001b[0mpd\u001b[0m\u001b[0;34m.\u001b[0m\u001b[0mSeries\u001b[0m\u001b[0;34m)\u001b[0m\u001b[0;34m\u001b[0m\u001b[0;34m\u001b[0m\u001b[0m\n\u001b[1;32m    644\u001b[0m     \u001b[0;32mdef\u001b[0m \u001b[0mapply\u001b[0m\u001b[0;34m(\u001b[0m\u001b[0mself\u001b[0m\u001b[0;34m,\u001b[0m \u001b[0mfunc\u001b[0m\u001b[0;34m,\u001b[0m \u001b[0mconvert_dtype\u001b[0m\u001b[0;34m=\u001b[0m\u001b[0;32mTrue\u001b[0m\u001b[0;34m,\u001b[0m \u001b[0margs\u001b[0m\u001b[0;34m=\u001b[0m\u001b[0;34m(\u001b[0m\u001b[0;34m)\u001b[0m\u001b[0;34m,\u001b[0m \u001b[0;34m**\u001b[0m\u001b[0mkwargs\u001b[0m\u001b[0;34m)\u001b[0m\u001b[0;34m:\u001b[0m\u001b[0;34m\u001b[0m\u001b[0;34m\u001b[0m\u001b[0m\n\u001b[0;32m--> 645\u001b[0;31m         \u001b[0mresult\u001b[0m \u001b[0;34m=\u001b[0m \u001b[0msuper\u001b[0m\u001b[0;34m(\u001b[0m\u001b[0;34m)\u001b[0m\u001b[0;34m.\u001b[0m\u001b[0mapply\u001b[0m\u001b[0;34m(\u001b[0m\u001b[0mfunc\u001b[0m\u001b[0;34m,\u001b[0m \u001b[0mconvert_dtype\u001b[0m\u001b[0;34m=\u001b[0m\u001b[0mconvert_dtype\u001b[0m\u001b[0;34m,\u001b[0m \u001b[0margs\u001b[0m\u001b[0;34m=\u001b[0m\u001b[0margs\u001b[0m\u001b[0;34m,\u001b[0m \u001b[0;34m**\u001b[0m\u001b[0mkwargs\u001b[0m\u001b[0;34m)\u001b[0m\u001b[0;34m\u001b[0m\u001b[0;34m\u001b[0m\u001b[0m\n\u001b[0m\u001b[1;32m    646\u001b[0m         \u001b[0;32mif\u001b[0m \u001b[0misinstance\u001b[0m\u001b[0;34m(\u001b[0m\u001b[0mresult\u001b[0m\u001b[0;34m,\u001b[0m \u001b[0mGeoSeries\u001b[0m\u001b[0;34m)\u001b[0m\u001b[0;34m:\u001b[0m\u001b[0;34m\u001b[0m\u001b[0;34m\u001b[0m\u001b[0m\n\u001b[1;32m    647\u001b[0m             \u001b[0;32mif\u001b[0m \u001b[0mself\u001b[0m\u001b[0;34m.\u001b[0m\u001b[0mcrs\u001b[0m \u001b[0;32mis\u001b[0m \u001b[0;32mnot\u001b[0m \u001b[0;32mNone\u001b[0m\u001b[0;34m:\u001b[0m\u001b[0;34m\u001b[0m\u001b[0;34m\u001b[0m\u001b[0m\n",
            "\u001b[0;32m/usr/local/lib/python3.10/dist-packages/pandas/core/series.py\u001b[0m in \u001b[0;36mapply\u001b[0;34m(self, func, convert_dtype, args, **kwargs)\u001b[0m\n\u001b[1;32m   4769\u001b[0m         \u001b[0mdtype\u001b[0m\u001b[0;34m:\u001b[0m \u001b[0mfloat64\u001b[0m\u001b[0;34m\u001b[0m\u001b[0;34m\u001b[0m\u001b[0m\n\u001b[1;32m   4770\u001b[0m         \"\"\"\n\u001b[0;32m-> 4771\u001b[0;31m         \u001b[0;32mreturn\u001b[0m \u001b[0mSeriesApply\u001b[0m\u001b[0;34m(\u001b[0m\u001b[0mself\u001b[0m\u001b[0;34m,\u001b[0m \u001b[0mfunc\u001b[0m\u001b[0;34m,\u001b[0m \u001b[0mconvert_dtype\u001b[0m\u001b[0;34m,\u001b[0m \u001b[0margs\u001b[0m\u001b[0;34m,\u001b[0m \u001b[0mkwargs\u001b[0m\u001b[0;34m)\u001b[0m\u001b[0;34m.\u001b[0m\u001b[0mapply\u001b[0m\u001b[0;34m(\u001b[0m\u001b[0;34m)\u001b[0m\u001b[0;34m\u001b[0m\u001b[0;34m\u001b[0m\u001b[0m\n\u001b[0m\u001b[1;32m   4772\u001b[0m \u001b[0;34m\u001b[0m\u001b[0m\n\u001b[1;32m   4773\u001b[0m     def _reduce(\n",
            "\u001b[0;32m/usr/local/lib/python3.10/dist-packages/pandas/core/apply.py\u001b[0m in \u001b[0;36mapply\u001b[0;34m(self)\u001b[0m\n\u001b[1;32m   1121\u001b[0m \u001b[0;34m\u001b[0m\u001b[0m\n\u001b[1;32m   1122\u001b[0m         \u001b[0;31m# self.f is Callable\u001b[0m\u001b[0;34m\u001b[0m\u001b[0;34m\u001b[0m\u001b[0m\n\u001b[0;32m-> 1123\u001b[0;31m         \u001b[0;32mreturn\u001b[0m \u001b[0mself\u001b[0m\u001b[0;34m.\u001b[0m\u001b[0mapply_standard\u001b[0m\u001b[0;34m(\u001b[0m\u001b[0;34m)\u001b[0m\u001b[0;34m\u001b[0m\u001b[0;34m\u001b[0m\u001b[0m\n\u001b[0m\u001b[1;32m   1124\u001b[0m \u001b[0;34m\u001b[0m\u001b[0m\n\u001b[1;32m   1125\u001b[0m     \u001b[0;32mdef\u001b[0m \u001b[0magg\u001b[0m\u001b[0;34m(\u001b[0m\u001b[0mself\u001b[0m\u001b[0;34m)\u001b[0m\u001b[0;34m:\u001b[0m\u001b[0;34m\u001b[0m\u001b[0;34m\u001b[0m\u001b[0m\n",
            "\u001b[0;32m/usr/local/lib/python3.10/dist-packages/pandas/core/apply.py\u001b[0m in \u001b[0;36mapply_standard\u001b[0;34m(self)\u001b[0m\n\u001b[1;32m   1172\u001b[0m             \u001b[0;32melse\u001b[0m\u001b[0;34m:\u001b[0m\u001b[0;34m\u001b[0m\u001b[0;34m\u001b[0m\u001b[0m\n\u001b[1;32m   1173\u001b[0m                 \u001b[0mvalues\u001b[0m \u001b[0;34m=\u001b[0m \u001b[0mobj\u001b[0m\u001b[0;34m.\u001b[0m\u001b[0mastype\u001b[0m\u001b[0;34m(\u001b[0m\u001b[0mobject\u001b[0m\u001b[0;34m)\u001b[0m\u001b[0;34m.\u001b[0m\u001b[0m_values\u001b[0m\u001b[0;34m\u001b[0m\u001b[0;34m\u001b[0m\u001b[0m\n\u001b[0;32m-> 1174\u001b[0;31m                 mapped = lib.map_infer(\n\u001b[0m\u001b[1;32m   1175\u001b[0m                     \u001b[0mvalues\u001b[0m\u001b[0;34m,\u001b[0m\u001b[0;34m\u001b[0m\u001b[0;34m\u001b[0m\u001b[0m\n\u001b[1;32m   1176\u001b[0m                     \u001b[0mf\u001b[0m\u001b[0;34m,\u001b[0m\u001b[0;34m\u001b[0m\u001b[0;34m\u001b[0m\u001b[0m\n",
            "\u001b[0;32m/usr/local/lib/python3.10/dist-packages/pandas/_libs/lib.pyx\u001b[0m in \u001b[0;36mpandas._libs.lib.map_infer\u001b[0;34m()\u001b[0m\n",
            "\u001b[0;32m<ipython-input-18-3cbfb002b1c0>\u001b[0m in \u001b[0;36m<lambda>\u001b[0;34m(s)\u001b[0m\n\u001b[1;32m     16\u001b[0m \u001b[0;34m\u001b[0m\u001b[0m\n\u001b[1;32m     17\u001b[0m \u001b[0;31m# filtering\u001b[0m\u001b[0;34m\u001b[0m\u001b[0;34m\u001b[0m\u001b[0m\n\u001b[0;32m---> 18\u001b[0;31m \u001b[0minUS\u001b[0m \u001b[0;34m=\u001b[0m \u001b[0mrndn_sample\u001b[0m\u001b[0;34m[\u001b[0m\u001b[0;34m'geometry'\u001b[0m\u001b[0;34m]\u001b[0m\u001b[0;34m.\u001b[0m\u001b[0mapply\u001b[0m\u001b[0;34m(\u001b[0m\u001b[0;32mlambda\u001b[0m \u001b[0ms\u001b[0m\u001b[0;34m:\u001b[0m \u001b[0ms\u001b[0m\u001b[0;34m.\u001b[0m\u001b[0mwithin\u001b[0m\u001b[0;34m(\u001b[0m\u001b[0mus\u001b[0m\u001b[0;34m.\u001b[0m\u001b[0mgeometry\u001b[0m\u001b[0;34m.\u001b[0m\u001b[0munary_union\u001b[0m\u001b[0;34m)\u001b[0m\u001b[0;34m)\u001b[0m \u001b[0;31m# check if within the U.S. bounds\u001b[0m\u001b[0;34m\u001b[0m\u001b[0;34m\u001b[0m\u001b[0m\n\u001b[0m\u001b[1;32m     19\u001b[0m \u001b[0mrndn_sample\u001b[0m\u001b[0;34m.\u001b[0m\u001b[0mloc\u001b[0m\u001b[0;34m[\u001b[0m\u001b[0minUS\u001b[0m\u001b[0;34m,\u001b[0m\u001b[0;34m:\u001b[0m\u001b[0;34m]\u001b[0m\u001b[0;34m.\u001b[0m\u001b[0mplot\u001b[0m\u001b[0;34m(\u001b[0m\u001b[0;34m)\u001b[0m \u001b[0;31m# plot for visual inspection of results\u001b[0m\u001b[0;34m\u001b[0m\u001b[0;34m\u001b[0m\u001b[0m\n",
            "\u001b[0;32m/usr/local/lib/python3.10/dist-packages/geopandas/base.py\u001b[0m in \u001b[0;36munary_union\u001b[0;34m(self)\u001b[0m\n\u001b[1;32m    864\u001b[0m         \u001b[0mPOLYGON\u001b[0m \u001b[0;34m(\u001b[0m\u001b[0;34m(\u001b[0m\u001b[0;36m0\u001b[0m \u001b[0;36m1\u001b[0m\u001b[0;34m,\u001b[0m \u001b[0;36m0\u001b[0m \u001b[0;36m2\u001b[0m\u001b[0;34m,\u001b[0m \u001b[0;36m2\u001b[0m \u001b[0;36m2\u001b[0m\u001b[0;34m,\u001b[0m \u001b[0;36m2\u001b[0m \u001b[0;36m0\u001b[0m\u001b[0;34m,\u001b[0m \u001b[0;36m1\u001b[0m \u001b[0;36m0\u001b[0m\u001b[0;34m,\u001b[0m \u001b[0;36m0\u001b[0m \u001b[0;36m0\u001b[0m\u001b[0;34m,\u001b[0m \u001b[0;36m0\u001b[0m \u001b[0;36m1\u001b[0m\u001b[0;34m)\u001b[0m\u001b[0;34m)\u001b[0m\u001b[0;34m\u001b[0m\u001b[0;34m\u001b[0m\u001b[0m\n\u001b[1;32m    865\u001b[0m         \"\"\"\n\u001b[0;32m--> 866\u001b[0;31m         \u001b[0;32mreturn\u001b[0m \u001b[0mself\u001b[0m\u001b[0;34m.\u001b[0m\u001b[0mgeometry\u001b[0m\u001b[0;34m.\u001b[0m\u001b[0mvalues\u001b[0m\u001b[0;34m.\u001b[0m\u001b[0munary_union\u001b[0m\u001b[0;34m(\u001b[0m\u001b[0;34m)\u001b[0m\u001b[0;34m\u001b[0m\u001b[0;34m\u001b[0m\u001b[0m\n\u001b[0m\u001b[1;32m    867\u001b[0m \u001b[0;34m\u001b[0m\u001b[0m\n\u001b[1;32m    868\u001b[0m     \u001b[0;31m#\u001b[0m\u001b[0;34m\u001b[0m\u001b[0;34m\u001b[0m\u001b[0m\n",
            "\u001b[0;32m/usr/local/lib/python3.10/dist-packages/geopandas/array.py\u001b[0m in \u001b[0;36munary_union\u001b[0;34m(self)\u001b[0m\n\u001b[1;32m    678\u001b[0m \u001b[0;34m\u001b[0m\u001b[0m\n\u001b[1;32m    679\u001b[0m     \u001b[0;32mdef\u001b[0m \u001b[0munary_union\u001b[0m\u001b[0;34m(\u001b[0m\u001b[0mself\u001b[0m\u001b[0;34m)\u001b[0m\u001b[0;34m:\u001b[0m\u001b[0;34m\u001b[0m\u001b[0;34m\u001b[0m\u001b[0m\n\u001b[0;32m--> 680\u001b[0;31m         \u001b[0;32mreturn\u001b[0m \u001b[0mvectorized\u001b[0m\u001b[0;34m.\u001b[0m\u001b[0munary_union\u001b[0m\u001b[0;34m(\u001b[0m\u001b[0mself\u001b[0m\u001b[0;34m.\u001b[0m\u001b[0m_data\u001b[0m\u001b[0;34m)\u001b[0m\u001b[0;34m\u001b[0m\u001b[0;34m\u001b[0m\u001b[0m\n\u001b[0m\u001b[1;32m    681\u001b[0m \u001b[0;34m\u001b[0m\u001b[0m\n\u001b[1;32m    682\u001b[0m     \u001b[0;31m#\u001b[0m\u001b[0;34m\u001b[0m\u001b[0;34m\u001b[0m\u001b[0m\n",
            "\u001b[0;32m/usr/local/lib/python3.10/dist-packages/geopandas/_vectorized.py\u001b[0m in \u001b[0;36munary_union\u001b[0;34m(data)\u001b[0m\n\u001b[1;32m   1051\u001b[0m \u001b[0;34m\u001b[0m\u001b[0m\n\u001b[1;32m   1052\u001b[0m     \u001b[0;32mif\u001b[0m \u001b[0mcompat\u001b[0m\u001b[0;34m.\u001b[0m\u001b[0mUSE_SHAPELY_20\u001b[0m\u001b[0;34m:\u001b[0m\u001b[0;34m\u001b[0m\u001b[0;34m\u001b[0m\u001b[0m\n\u001b[0;32m-> 1053\u001b[0;31m         \u001b[0mdata\u001b[0m \u001b[0;34m=\u001b[0m \u001b[0mshapely\u001b[0m\u001b[0;34m.\u001b[0m\u001b[0munion_all\u001b[0m\u001b[0;34m(\u001b[0m\u001b[0mdata\u001b[0m\u001b[0;34m)\u001b[0m\u001b[0;34m\u001b[0m\u001b[0;34m\u001b[0m\u001b[0m\n\u001b[0m\u001b[1;32m   1054\u001b[0m         \u001b[0;32mif\u001b[0m \u001b[0mdata\u001b[0m \u001b[0;32mis\u001b[0m \u001b[0;32mNone\u001b[0m \u001b[0;32mor\u001b[0m \u001b[0mdata\u001b[0m\u001b[0;34m.\u001b[0m\u001b[0mis_empty\u001b[0m\u001b[0;34m:\u001b[0m  \u001b[0;31m# shapely 2.0a1 and 2.0\u001b[0m\u001b[0;34m\u001b[0m\u001b[0;34m\u001b[0m\u001b[0m\n\u001b[1;32m   1055\u001b[0m             warnings.warn(\n",
            "\u001b[0;32m/usr/local/lib/python3.10/dist-packages/shapely/decorators.py\u001b[0m in \u001b[0;36mwrapped\u001b[0;34m(*args, **kwargs)\u001b[0m\n\u001b[1;32m     75\u001b[0m             \u001b[0;32mfor\u001b[0m \u001b[0marr\u001b[0m \u001b[0;32min\u001b[0m \u001b[0marray_args\u001b[0m\u001b[0;34m:\u001b[0m\u001b[0;34m\u001b[0m\u001b[0;34m\u001b[0m\u001b[0m\n\u001b[1;32m     76\u001b[0m                 \u001b[0marr\u001b[0m\u001b[0;34m.\u001b[0m\u001b[0mflags\u001b[0m\u001b[0;34m.\u001b[0m\u001b[0mwriteable\u001b[0m \u001b[0;34m=\u001b[0m \u001b[0;32mFalse\u001b[0m\u001b[0;34m\u001b[0m\u001b[0;34m\u001b[0m\u001b[0m\n\u001b[0;32m---> 77\u001b[0;31m             \u001b[0;32mreturn\u001b[0m \u001b[0mfunc\u001b[0m\u001b[0;34m(\u001b[0m\u001b[0;34m*\u001b[0m\u001b[0margs\u001b[0m\u001b[0;34m,\u001b[0m \u001b[0;34m**\u001b[0m\u001b[0mkwargs\u001b[0m\u001b[0;34m)\u001b[0m\u001b[0;34m\u001b[0m\u001b[0;34m\u001b[0m\u001b[0m\n\u001b[0m\u001b[1;32m     78\u001b[0m         \u001b[0;32mfinally\u001b[0m\u001b[0;34m:\u001b[0m\u001b[0;34m\u001b[0m\u001b[0;34m\u001b[0m\u001b[0m\n\u001b[1;32m     79\u001b[0m             \u001b[0;32mfor\u001b[0m \u001b[0marr\u001b[0m\u001b[0;34m,\u001b[0m \u001b[0mold_flag\u001b[0m \u001b[0;32min\u001b[0m \u001b[0mzip\u001b[0m\u001b[0;34m(\u001b[0m\u001b[0marray_args\u001b[0m\u001b[0;34m,\u001b[0m \u001b[0mold_flags\u001b[0m\u001b[0;34m)\u001b[0m\u001b[0;34m:\u001b[0m\u001b[0;34m\u001b[0m\u001b[0;34m\u001b[0m\u001b[0m\n",
            "\u001b[0;32m/usr/local/lib/python3.10/dist-packages/shapely/set_operations.py\u001b[0m in \u001b[0;36munion_all\u001b[0;34m(geometries, grid_size, axis, **kwargs)\u001b[0m\n\u001b[1;32m    417\u001b[0m         \u001b[0;32mreturn\u001b[0m \u001b[0mlib\u001b[0m\u001b[0;34m.\u001b[0m\u001b[0munary_union_prec\u001b[0m\u001b[0;34m(\u001b[0m\u001b[0mcollections\u001b[0m\u001b[0;34m,\u001b[0m \u001b[0mgrid_size\u001b[0m\u001b[0;34m,\u001b[0m \u001b[0;34m**\u001b[0m\u001b[0mkwargs\u001b[0m\u001b[0;34m)\u001b[0m\u001b[0;34m\u001b[0m\u001b[0;34m\u001b[0m\u001b[0m\n\u001b[1;32m    418\u001b[0m \u001b[0;34m\u001b[0m\u001b[0m\n\u001b[0;32m--> 419\u001b[0;31m     \u001b[0;32mreturn\u001b[0m \u001b[0mlib\u001b[0m\u001b[0;34m.\u001b[0m\u001b[0munary_union\u001b[0m\u001b[0;34m(\u001b[0m\u001b[0mcollections\u001b[0m\u001b[0;34m,\u001b[0m \u001b[0;34m**\u001b[0m\u001b[0mkwargs\u001b[0m\u001b[0;34m)\u001b[0m\u001b[0;34m\u001b[0m\u001b[0;34m\u001b[0m\u001b[0m\n\u001b[0m\u001b[1;32m    420\u001b[0m \u001b[0;34m\u001b[0m\u001b[0m\n\u001b[1;32m    421\u001b[0m \u001b[0;34m\u001b[0m\u001b[0m\n",
            "\u001b[0;31mKeyboardInterrupt\u001b[0m: "
          ]
        }
      ]
    },
    {
      "cell_type": "code",
      "source": [
        "top, bottom = 49, 25\n",
        "left, right = -124, -67\n",
        "\n",
        "MILE_DIFF = .4\n",
        "\n",
        "points = []\n",
        "for i in np.arange(25, 49, MILE_DIFF):\n",
        "  numbers = np.arange(-124, -67, MILE_DIFF)\n",
        "  for j in numbers:\n",
        "    if globe.is_land(i, j):\n",
        "      points.append((i, j))\n",
        "\n",
        "len(points)"
      ],
      "metadata": {
        "colab": {
          "base_uri": "https://localhost:8080/"
        },
        "id": "tPFC7-1IrL6y",
        "outputId": "3ae3f8ad-7b81-47a3-f986-ab69ef3f3bca"
      },
      "execution_count": 73,
      "outputs": [
        {
          "output_type": "execute_result",
          "data": {
            "text/plain": [
              "6204"
            ]
          },
          "metadata": {},
          "execution_count": 73
        }
      ]
    },
    {
      "cell_type": "code",
      "source": [
        "df = pd.DataFrame(points, columns=[\"Lat\", \"Long\"])"
      ],
      "metadata": {
        "id": "E1af4oNJ0qp0"
      },
      "execution_count": 74,
      "outputs": []
    },
    {
      "cell_type": "code",
      "source": [
        "df.to_csv('/content/drive/MyDrive/points.csv')"
      ],
      "metadata": {
        "id": "biZ_Y73s0qxk"
      },
      "execution_count": 75,
      "outputs": []
    }
  ]
}